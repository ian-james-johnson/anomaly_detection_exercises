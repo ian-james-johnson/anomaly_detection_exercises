{
 "cells": [
  {
   "cell_type": "markdown",
   "id": "c258e7f7",
   "metadata": {},
   "source": [
    "Example comes from: <br>\n",
    "https://blog.floydhub.com/introduction-to-anomaly-detection-in-python/"
   ]
  },
  {
   "cell_type": "code",
   "execution_count": 1,
   "id": "f1bf9341",
   "metadata": {},
   "outputs": [],
   "source": [
    "import pandas as pd\n",
    "import numpy as np\n",
    "import matplotlib.pyplot as plt\n",
    "\n",
    "# use a preferred style set\n",
    "plt.style.use('ggplot')\n",
    "\n",
    "# install faker --> pip install faker\n",
    "# import faker\n",
    "from faker import Faker\n",
    "fake = Faker()\n",
    "# to ensure reproducibility\n",
    "Faker.seed(4321)\n",
    "# fake.seed in example doesn't work, get error saying that it is deprecated for instances"
   ]
  },
  {
   "cell_type": "code",
   "execution_count": 2,
   "id": "6fb4e217",
   "metadata": {},
   "outputs": [
    {
     "data": {
      "text/plain": [
       "['Jason Brown',\n",
       " 'Jacob Stein',\n",
       " 'Cody Brown',\n",
       " 'Larry Morales',\n",
       " 'Jessica Hendricks']"
      ]
     },
     "execution_count": 2,
     "metadata": {},
     "output_type": "execute_result"
    }
   ],
   "source": [
    "names_list = []\n",
    "fake = Faker()\n",
    "for _ in range(100):\n",
    "    names_list.append(fake.name())\n",
    "\n",
    "names_list[0:5]"
   ]
  },
  {
   "cell_type": "code",
   "execution_count": 3,
   "id": "faf078d8",
   "metadata": {},
   "outputs": [
    {
     "data": {
      "text/plain": [
       "[1175, 2220, 1537, 1502, 1211]"
      ]
     },
     "execution_count": 3,
     "metadata": {},
     "output_type": "execute_result"
    }
   ],
   "source": [
    "# to ensure reproducibility of results\n",
    "np.random.seed(7)\n",
    "\n",
    "salaries = []\n",
    "for _ in range(100):\n",
    "    salary = np.random.randint(1000, 2500)\n",
    "    salaries.append(salary)\n",
    "\n",
    "salaries[0:5]"
   ]
  },
  {
   "cell_type": "code",
   "execution_count": 4,
   "id": "c20af1c7",
   "metadata": {},
   "outputs": [
    {
     "data": {
      "text/html": [
       "<div>\n",
       "<style scoped>\n",
       "    .dataframe tbody tr th:only-of-type {\n",
       "        vertical-align: middle;\n",
       "    }\n",
       "\n",
       "    .dataframe tbody tr th {\n",
       "        vertical-align: top;\n",
       "    }\n",
       "\n",
       "    .dataframe thead th {\n",
       "        text-align: right;\n",
       "    }\n",
       "</style>\n",
       "<table border=\"1\" class=\"dataframe\">\n",
       "  <thead>\n",
       "    <tr style=\"text-align: right;\">\n",
       "      <th></th>\n",
       "      <th>person</th>\n",
       "      <th>salary</th>\n",
       "    </tr>\n",
       "  </thead>\n",
       "  <tbody>\n",
       "    <tr>\n",
       "      <th>0</th>\n",
       "      <td>Jason Brown</td>\n",
       "      <td>1175</td>\n",
       "    </tr>\n",
       "    <tr>\n",
       "      <th>1</th>\n",
       "      <td>Jacob Stein</td>\n",
       "      <td>2220</td>\n",
       "    </tr>\n",
       "    <tr>\n",
       "      <th>2</th>\n",
       "      <td>Cody Brown</td>\n",
       "      <td>1537</td>\n",
       "    </tr>\n",
       "    <tr>\n",
       "      <th>3</th>\n",
       "      <td>Larry Morales</td>\n",
       "      <td>1502</td>\n",
       "    </tr>\n",
       "    <tr>\n",
       "      <th>4</th>\n",
       "      <td>Jessica Hendricks</td>\n",
       "      <td>1211</td>\n",
       "    </tr>\n",
       "  </tbody>\n",
       "</table>\n",
       "</div>"
      ],
      "text/plain": [
       "              person  salary\n",
       "0        Jason Brown    1175\n",
       "1        Jacob Stein    2220\n",
       "2         Cody Brown    1537\n",
       "3      Larry Morales    1502\n",
       "4  Jessica Hendricks    1211"
      ]
     },
     "execution_count": 4,
     "metadata": {},
     "output_type": "execute_result"
    }
   ],
   "source": [
    "# create a pandas dataframe\n",
    "salary_df = pd.DataFrame({'person':names_list, 'salary':salaries})\n",
    "salary_df.head()"
   ]
  },
  {
   "cell_type": "code",
   "execution_count": 5,
   "id": "3026f092",
   "metadata": {},
   "outputs": [
    {
     "name": "stdout",
     "output_type": "stream",
     "text": [
      "person    Miss Amanda Harris MD\n",
      "salary                       23\n",
      "Name: 16, dtype: object\n"
     ]
    }
   ],
   "source": [
    "# lets manually change some of the salary entries\n",
    "salary_df.at[16, 'salary'] = 23\n",
    "print(salary_df.loc[16])"
   ]
  },
  {
   "cell_type": "code",
   "execution_count": 6,
   "id": "a29a67d6",
   "metadata": {},
   "outputs": [
    {
     "name": "stdout",
     "output_type": "stream",
     "text": [
      "person    Joyce Bishop\n",
      "salary              17\n",
      "Name: 65, dtype: object\n"
     ]
    }
   ],
   "source": [
    "salary_df.at[65, 'salary'] = 17\n",
    "print(salary_df.loc[65])"
   ]
  },
  {
   "cell_type": "code",
   "execution_count": 7,
   "id": "9000d6b5",
   "metadata": {},
   "outputs": [
    {
     "data": {
      "image/png": "[encoded data removed]",
      "text/plain": [
       "<Figure size 432x288 with 1 Axes>"
      ]
     },
     "metadata": {},
     "output_type": "display_data"
    }
   ],
   "source": [
    "# outlier shown in boxplot\n",
    "salary_df['salary'].plot(kind='box')\n",
    "plt.show()"
   ]
  },
  {
   "cell_type": "code",
   "execution_count": 8,
   "id": "2f6e44e3",
   "metadata": {},
   "outputs": [
    {
     "data": {
      "image/png": "[encoded data removed]",
      "text/plain": [
       "<Figure size 432x288 with 1 Axes>"
      ]
     },
     "metadata": {},
     "output_type": "display_data"
    }
   ],
   "source": [
    "# outlier shown in histogram\n",
    "salary_df['salary'].plot(kind='hist')\n",
    "plt.show()"
   ]
  },
  {
   "cell_type": "code",
   "execution_count": 9,
   "id": "619c1d7e",
   "metadata": {},
   "outputs": [
    {
     "name": "stdout",
     "output_type": "stream",
     "text": [
      "Minimum salary 17\n",
      "Maximum salary 2498\n"
     ]
    }
   ],
   "source": [
    "print('Minimum salary ' + str(salary_df.salary.min()))\n",
    "print('Maximum salary ' + str(salary_df.salary.max()))"
   ]
  },
  {
   "cell_type": "code",
   "execution_count": 10,
   "id": "36b53ac0",
   "metadata": {},
   "outputs": [
    {
     "data": {
      "text/plain": [
       "array([1175, 2220, 1537, 1502, 1211, 1919, 2372, 2209, 2422, 1535, 1345,\n",
       "       1366, 1554, 1730, 1904, 2191,   23, 2456, 1391, 1940, 2099, 1823,\n",
       "       1250, 2030, 2468, 2068, 2349, 2176, 1183, 1949, 2136, 1763, 2213,\n",
       "       1290, 1312, 1201, 2486, 1550, 1772, 1494, 2161, 2219, 2096, 1944,\n",
       "       1257, 1400, 2398, 2373, 1940, 1604, 1764, 1279, 1745, 1803, 2472,\n",
       "       2341, 2415, 2175, 1092, 1759, 2248, 1356, 1931, 1481, 1579,   17,\n",
       "       1481, 2043, 1923, 1787, 1033, 2147, 2310, 1741, 1989, 2439, 2154,\n",
       "       2107, 1402, 1021, 1203, 1047, 1784, 1524, 1349, 1107, 1393, 1844,\n",
       "       1622, 1654, 1636, 1276, 1309, 1827, 1035, 1260, 1456, 2498, 2007,\n",
       "       2239])"
      ]
     },
     "execution_count": 10,
     "metadata": {},
     "output_type": "execute_result"
    }
   ],
   "source": [
    "# convert the salary values into a numpy array\n",
    "salary_raw = salary_df['salary'].values\n",
    "salary_raw"
   ]
  },
  {
   "cell_type": "code",
   "execution_count": 11,
   "id": "dedf594d",
   "metadata": {},
   "outputs": [
    {
     "data": {
      "text/plain": [
       "array([[1175.],\n",
       "       [2220.],\n",
       "       [1537.],\n",
       "       [1502.],\n",
       "       [1211.],\n",
       "       [1919.],\n",
       "       [2372.],\n",
       "       [2209.],\n",
       "       [2422.],\n",
       "       [1535.],\n",
       "       [1345.],\n",
       "       [1366.],\n",
       "       [1554.],\n",
       "       [1730.],\n",
       "       [1904.],\n",
       "       [2191.],\n",
       "       [  23.],\n",
       "       [2456.],\n",
       "       [1391.],\n",
       "       [1940.],\n",
       "       [2099.],\n",
       "       [1823.],\n",
       "       [1250.],\n",
       "       [2030.],\n",
       "       [2468.],\n",
       "       [2068.],\n",
       "       [2349.],\n",
       "       [2176.],\n",
       "       [1183.],\n",
       "       [1949.],\n",
       "       [2136.],\n",
       "       [1763.],\n",
       "       [2213.],\n",
       "       [1290.],\n",
       "       [1312.],\n",
       "       [1201.],\n",
       "       [2486.],\n",
       "       [1550.],\n",
       "       [1772.],\n",
       "       [1494.],\n",
       "       [2161.],\n",
       "       [2219.],\n",
       "       [2096.],\n",
       "       [1944.],\n",
       "       [1257.],\n",
       "       [1400.],\n",
       "       [2398.],\n",
       "       [2373.],\n",
       "       [1940.],\n",
       "       [1604.],\n",
       "       [1764.],\n",
       "       [1279.],\n",
       "       [1745.],\n",
       "       [1803.],\n",
       "       [2472.],\n",
       "       [2341.],\n",
       "       [2415.],\n",
       "       [2175.],\n",
       "       [1092.],\n",
       "       [1759.],\n",
       "       [2248.],\n",
       "       [1356.],\n",
       "       [1931.],\n",
       "       [1481.],\n",
       "       [1579.],\n",
       "       [  17.],\n",
       "       [1481.],\n",
       "       [2043.],\n",
       "       [1923.],\n",
       "       [1787.],\n",
       "       [1033.],\n",
       "       [2147.],\n",
       "       [2310.],\n",
       "       [1741.],\n",
       "       [1989.],\n",
       "       [2439.],\n",
       "       [2154.],\n",
       "       [2107.],\n",
       "       [1402.],\n",
       "       [1021.],\n",
       "       [1203.],\n",
       "       [1047.],\n",
       "       [1784.],\n",
       "       [1524.],\n",
       "       [1349.],\n",
       "       [1107.],\n",
       "       [1393.],\n",
       "       [1844.],\n",
       "       [1622.],\n",
       "       [1654.],\n",
       "       [1636.],\n",
       "       [1276.],\n",
       "       [1309.],\n",
       "       [1827.],\n",
       "       [1035.],\n",
       "       [1260.],\n",
       "       [1456.],\n",
       "       [2498.],\n",
       "       [2007.],\n",
       "       [2239.]])"
      ]
     },
     "execution_count": 11,
     "metadata": {},
     "output_type": "execute_result"
    }
   ],
   "source": [
    "# reshape for compatibility with SciPi\n",
    "# the -1 for reshape means use as many rows as needed (-1 means last number i.e. 100), \n",
    "# the 1 means one column\n",
    "salary_raw = salary_raw.reshape(-1, 1)\n",
    "salary_raw = salary_raw.astype('float64')\n",
    "salary_raw"
   ]
  },
  {
   "cell_type": "code",
   "execution_count": 12,
   "id": "e7fc7634",
   "metadata": {},
   "outputs": [],
   "source": [
    "# import kmeans from SciPi\n",
    "from scipy.cluster.vq import kmeans\n",
    "from scipy import cluster\n",
    "\n",
    "# specify the data and the number of clusters to kmeans\n",
    "centroids, avg_distance = kmeans(salary_raw, 4)"
   ]
  },
  {
   "cell_type": "code",
   "execution_count": 13,
   "id": "1dcdee1d",
   "metadata": {},
   "outputs": [],
   "source": [
    "# get the groups (clusters) and distances\n",
    "groups, cdist = cluster.vq.vq(salary_raw, centroids)"
   ]
  },
  {
   "cell_type": "code",
   "execution_count": 14,
   "id": "da288394",
   "metadata": {},
   "outputs": [
    {
     "data": {
      "image/png": "[encoded data removed]",
      "text/plain": [
       "<Figure size 432x288 with 1 Axes>"
      ]
     },
     "metadata": {},
     "output_type": "display_data"
    }
   ],
   "source": [
    "# plot the groups that we got\n",
    "plt.scatter(salary_raw, np.arange(0, 100), c=groups)\n",
    "plt.xlabel('salary')\n",
    "plt.ylabel('Indices')\n",
    "plt.show()"
   ]
  },
  {
   "cell_type": "markdown",
   "id": "f806e159",
   "metadata": {},
   "source": [
    "### Lets redo this as a supervised learning classification problem"
   ]
  },
  {
   "cell_type": "code",
   "execution_count": 15,
   "id": "5d7bd1da",
   "metadata": {},
   "outputs": [
    {
     "name": "stdout",
     "output_type": "stream",
     "text": [
      "person    Miss Amanda Harris MD\n",
      "salary                       23\n",
      "class                         1\n",
      "Name: 16, dtype: object\n"
     ]
    }
   ],
   "source": [
    "# first assign all the instances to 0\n",
    "salary_df['class'] = 0\n",
    "\n",
    "# manually create the anomalies\n",
    "salary_df.at[16, 'class'] = 1\n",
    "salary_df.at[65, 'class'] = 1\n",
    "\n",
    "# verify\n",
    "print(salary_df.loc[16])"
   ]
  },
  {
   "cell_type": "code",
   "execution_count": 16,
   "id": "a80d0499",
   "metadata": {},
   "outputs": [
    {
     "data": {
      "text/html": [
       "<div>\n",
       "<style scoped>\n",
       "    .dataframe tbody tr th:only-of-type {\n",
       "        vertical-align: middle;\n",
       "    }\n",
       "\n",
       "    .dataframe tbody tr th {\n",
       "        vertical-align: top;\n",
       "    }\n",
       "\n",
       "    .dataframe thead th {\n",
       "        text-align: right;\n",
       "    }\n",
       "</style>\n",
       "<table border=\"1\" class=\"dataframe\">\n",
       "  <thead>\n",
       "    <tr style=\"text-align: right;\">\n",
       "      <th></th>\n",
       "      <th>person</th>\n",
       "      <th>salary</th>\n",
       "      <th>class</th>\n",
       "    </tr>\n",
       "  </thead>\n",
       "  <tbody>\n",
       "    <tr>\n",
       "      <th>0</th>\n",
       "      <td>Jason Brown</td>\n",
       "      <td>1175</td>\n",
       "      <td>0</td>\n",
       "    </tr>\n",
       "    <tr>\n",
       "      <th>1</th>\n",
       "      <td>Jacob Stein</td>\n",
       "      <td>2220</td>\n",
       "      <td>0</td>\n",
       "    </tr>\n",
       "    <tr>\n",
       "      <th>2</th>\n",
       "      <td>Cody Brown</td>\n",
       "      <td>1537</td>\n",
       "      <td>0</td>\n",
       "    </tr>\n",
       "    <tr>\n",
       "      <th>3</th>\n",
       "      <td>Larry Morales</td>\n",
       "      <td>1502</td>\n",
       "      <td>0</td>\n",
       "    </tr>\n",
       "    <tr>\n",
       "      <th>4</th>\n",
       "      <td>Jessica Hendricks</td>\n",
       "      <td>1211</td>\n",
       "      <td>0</td>\n",
       "    </tr>\n",
       "  </tbody>\n",
       "</table>\n",
       "</div>"
      ],
      "text/plain": [
       "              person  salary  class\n",
       "0        Jason Brown    1175      0\n",
       "1        Jacob Stein    2220      0\n",
       "2         Cody Brown    1537      0\n",
       "3      Larry Morales    1502      0\n",
       "4  Jessica Hendricks    1211      0"
      ]
     },
     "execution_count": 16,
     "metadata": {},
     "output_type": "execute_result"
    }
   ],
   "source": [
    "salary_df.head()"
   ]
  },
  {
   "cell_type": "code",
   "execution_count": 17,
   "id": "34060451",
   "metadata": {},
   "outputs": [],
   "source": [
    "# pip install pyod\n",
    "# importing KNN module from PyOD\n",
    "from pyod.models.knn import KNN"
   ]
  },
  {
   "cell_type": "code",
   "execution_count": 20,
   "id": "94559848",
   "metadata": {},
   "outputs": [
    {
     "data": {
      "text/plain": [
       "KNN(algorithm='auto', contamination=0.02, leaf_size=30, method='largest',\n",
       "  metric='minkowski', metric_params=None, n_jobs=1, n_neighbors=5, p=2,\n",
       "  radius=1.0)"
      ]
     },
     "execution_count": 20,
     "metadata": {},
     "output_type": "execute_result"
    }
   ],
   "source": [
    "# segregate the salary values and class labels\n",
    "x = salary_df.salary.values.reshape(-1, 1)\n",
    "y = salary_df['class'].values\n",
    "\n",
    "# train the KNN\n",
    "# contamination: the percentage of anomalies in the data\n",
    "# n_neighbors: the number of neighbors to consider for measuring proximity\n",
    "clf = KNN(contamination=0.02, n_neighbors=5)\n",
    "clf.fit(x)"
   ]
  },
  {
   "cell_type": "code",
   "execution_count": 21,
   "id": "1269e6a0",
   "metadata": {},
   "outputs": [],
   "source": [
    "# get the predictions of the training data\n",
    "y_train_pred = clf.labels_\n",
    "\n",
    "# outlier scores\n",
    "y_train_scores = clf.decision_scores_"
   ]
  },
  {
   "cell_type": "code",
   "execution_count": 22,
   "id": "d2dd9d13",
   "metadata": {},
   "outputs": [
    {
     "name": "stdout",
     "output_type": "stream",
     "text": [
      "KNN ROC:1.0, precision @ rank n:1.0\n"
     ]
    }
   ],
   "source": [
    "# import the utility function for model evaluation\n",
    "from pyod.utils import evaluate_print\n",
    "\n",
    "# evaluate the training data\n",
    "evaluate_print('KNN', y, y_train_scores)"
   ]
  },
  {
   "cell_type": "code",
   "execution_count": 23,
   "id": "ac79c355",
   "metadata": {},
   "outputs": [
    {
     "data": {
      "text/plain": [
       "array([[37.]])"
      ]
     },
     "execution_count": 23,
     "metadata": {},
     "output_type": "execute_result"
    }
   ],
   "source": [
    "# lets test the model\n",
    "# a salary of 37 is an anomaly\n",
    "X_test = np.array([[37.]])\n",
    "X_test"
   ]
  },
  {
   "cell_type": "code",
   "execution_count": 24,
   "id": "ff7b0080",
   "metadata": {},
   "outputs": [
    {
     "data": {
      "text/plain": [
       "array([1])"
      ]
     },
     "execution_count": 24,
     "metadata": {},
     "output_type": "execute_result"
    }
   ],
   "source": [
    "# check what the model predicts on the test data point\n",
    "clf.predict(X_test)"
   ]
  },
  {
   "cell_type": "code",
   "execution_count": 25,
   "id": "f93ce5da",
   "metadata": {},
   "outputs": [
    {
     "data": {
      "text/plain": [
       "array([0])"
      ]
     },
     "execution_count": 25,
     "metadata": {},
     "output_type": "execute_result"
    }
   ],
   "source": [
    "# a salary of 1256 should be normal\n",
    "X_test_normal = np.array([[1256.]])\n",
    "\n",
    "# predict\n",
    "clf.predict(X_test_normal)"
   ]
  },
  {
   "cell_type": "code",
   "execution_count": null,
   "id": "cb09e967",
   "metadata": {},
   "outputs": [],
   "source": []
  }
 ],
 "metadata": {
  "kernelspec": {
   "display_name": "Python 3",
   "language": "python",
   "name": "python3"
  },
  "language_info": {
   "codemirror_mode": {
    "name": "ipython",
    "version": 3
   },
   "file_extension": ".py",
   "mimetype": "text/x-python",
   "name": "python",
   "nbconvert_exporter": "python",
   "pygments_lexer": "ipython3",
   "version": "3.8.8"
  }
 },
 "nbformat": 4,
 "nbformat_minor": 5
}
