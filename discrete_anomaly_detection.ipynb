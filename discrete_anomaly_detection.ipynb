{
 "cells": [
  {
   "cell_type": "code",
   "execution_count": 5,
   "id": "e21a53d9",
   "metadata": {},
   "outputs": [],
   "source": [
    "import numpy as np\n",
    "import pandas as pd\n",
    "import matplotlib.pyplot as plt\n",
    "import seaborn as sns\n",
    "\n",
    "from sklearn import metrics\n",
    "df = df.entry.apply(parse_log_entry)\n",
    "import env"
   ]
  },
  {
   "cell_type": "code",
   "execution_count": 47,
   "id": "3c8e8ff5",
   "metadata": {},
   "outputs": [
    {
     "data": {
      "text/html": [
       "<div>\n",
       "<style scoped>\n",
       "    .dataframe tbody tr th:only-of-type {\n",
       "        vertical-align: middle;\n",
       "    }\n",
       "\n",
       "    .dataframe tbody tr th {\n",
       "        vertical-align: top;\n",
       "    }\n",
       "\n",
       "    .dataframe thead th {\n",
       "        text-align: right;\n",
       "    }\n",
       "</style>\n",
       "<table border=\"1\" class=\"dataframe\">\n",
       "  <thead>\n",
       "    <tr style=\"text-align: right;\">\n",
       "      <th></th>\n",
       "      <th>entry</th>\n",
       "    </tr>\n",
       "  </thead>\n",
       "  <tbody>\n",
       "    <tr>\n",
       "      <th>0</th>\n",
       "      <td>97.105.19.58 - - [16/Apr/2019:19:34:42 +0000] ...</td>\n",
       "    </tr>\n",
       "    <tr>\n",
       "      <th>1</th>\n",
       "      <td>97.105.19.58 - - [16/Apr/2019:19:34:42 +0000] ...</td>\n",
       "    </tr>\n",
       "    <tr>\n",
       "      <th>2</th>\n",
       "      <td>97.105.19.58 - - [16/Apr/2019:19:34:44 +0000] ...</td>\n",
       "    </tr>\n",
       "    <tr>\n",
       "      <th>3</th>\n",
       "      <td>97.105.19.58 - - [16/Apr/2019:19:34:46 +0000] ...</td>\n",
       "    </tr>\n",
       "    <tr>\n",
       "      <th>4</th>\n",
       "      <td>97.105.19.58 - - [16/Apr/2019:19:34:48 +0000] ...</td>\n",
       "    </tr>\n",
       "  </tbody>\n",
       "</table>\n",
       "</div>"
      ],
      "text/plain": [
       "                                               entry\n",
       "0  97.105.19.58 - - [16/Apr/2019:19:34:42 +0000] ...\n",
       "1  97.105.19.58 - - [16/Apr/2019:19:34:42 +0000] ...\n",
       "2  97.105.19.58 - - [16/Apr/2019:19:34:44 +0000] ...\n",
       "3  97.105.19.58 - - [16/Apr/2019:19:34:46 +0000] ...\n",
       "4  97.105.19.58 - - [16/Apr/2019:19:34:48 +0000] ..."
      ]
     },
     "execution_count": 47,
     "metadata": {},
     "output_type": "execute_result"
    }
   ],
   "source": [
    "# get the dataframe from the codeup sql server\n",
    "url = f'mysql+pymysql://{env.user}:{env.password}@{env.host}/logs'\n",
    "df = pd.read_sql('SELECT * FROM api_access', url)\n",
    "df.head()"
   ]
  },
  {
   "cell_type": "code",
   "execution_count": 13,
   "id": "ad43de78",
   "metadata": {},
   "outputs": [
    {
     "data": {
      "text/plain": [
       "0        97.105.19.58 - - [16/Apr/2019:19:34:42 +0000] ...\n",
       "1        97.105.19.58 - - [16/Apr/2019:19:34:42 +0000] ...\n",
       "2        97.105.19.58 - - [16/Apr/2019:19:34:44 +0000] ...\n",
       "3        97.105.19.58 - - [16/Apr/2019:19:34:46 +0000] ...\n",
       "4        97.105.19.58 - - [16/Apr/2019:19:34:48 +0000] ...\n",
       "                               ...                        \n",
       "13969    97.105.19.58 - - [17/Apr/2019:12:55:12 +0000] ...\n",
       "13970    97.105.19.58 - - [17/Apr/2019:12:55:12 +0000] ...\n",
       "13971    97.105.19.58 - - [17/Apr/2019:12:55:13 +0000] ...\n",
       "13972    97.105.19.58 - - [17/Apr/2019:12:55:13 +0000] ...\n",
       "13973    97.105.19.58 - - [17/Apr/2019:12:55:14 +0000] ...\n",
       "Name: entry, Length: 13974, dtype: object"
      ]
     },
     "execution_count": 13,
     "metadata": {},
     "output_type": "execute_result"
    }
   ],
   "source": [
    "# entry is a column in the df\n",
    "# the type is now 'object' instead of dataframe\n",
    "df.entry"
   ]
  },
  {
   "cell_type": "code",
   "execution_count": 28,
   "id": "cd9e360b",
   "metadata": {},
   "outputs": [
    {
     "data": {
      "text/plain": [
       "'97.105.19.58 - - [16/Apr/2019:19:34:42 +0000] \"GET /api/v1/items HTTP/1.1\" 200 3561 \"-\" \"python-requests/2.21.0\"'"
      ]
     },
     "execution_count": 28,
     "metadata": {},
     "output_type": "execute_result"
    }
   ],
   "source": [
    "# this is the second row only of entry\n",
    "df.entry[1]"
   ]
  },
  {
   "cell_type": "code",
   "execution_count": 15,
   "id": "0e9f02cf",
   "metadata": {},
   "outputs": [
    {
     "data": {
      "text/plain": [
       "['97.105.19.58',\n",
       " '-',\n",
       " '-',\n",
       " '[16/Apr/2019:19:34:42',\n",
       " '+0000]',\n",
       " '\"GET',\n",
       " '/api/v1/items',\n",
       " 'HTTP/1.1\"',\n",
       " '200',\n",
       " '3561',\n",
       " '\"-\"',\n",
       " '\"python-requests/2.21.0\"']"
      ]
     },
     "execution_count": 15,
     "metadata": {},
     "output_type": "execute_result"
    }
   ],
   "source": [
    "# gives error because split can't be done this way to the entire series\n",
    "# df.entry.split()\n",
    "\n",
    "# we can use split one row at a time\n",
    "# we can use apply() to split all rows one at a time\n",
    "df.entry[1].split()"
   ]
  },
  {
   "cell_type": "code",
   "execution_count": 18,
   "id": "5ba526e6",
   "metadata": {},
   "outputs": [],
   "source": [
    "# lets practice with one row first\n",
    "parts = df.entry[1].split()\n",
    "\n",
    "\n",
    "# create an empty dictionary\n",
    "output = {}"
   ]
  },
  {
   "cell_type": "code",
   "execution_count": 19,
   "id": "bf2157e2",
   "metadata": {},
   "outputs": [
    {
     "data": {
      "text/plain": [
       "'97.105.19.58'"
      ]
     },
     "execution_count": 19,
     "metadata": {},
     "output_type": "execute_result"
    }
   ],
   "source": [
    "output['ip'] = parts[0]\n",
    "output['ip']"
   ]
  },
  {
   "cell_type": "code",
   "execution_count": 22,
   "id": "925c1c8f",
   "metadata": {},
   "outputs": [
    {
     "data": {
      "text/plain": [
       "'16/Apr/2019 19:34:42'"
      ]
     },
     "execution_count": 22,
     "metadata": {},
     "output_type": "execute_result"
    }
   ],
   "source": [
    "# the 1 and the end of the replace argument is the number of occurrences to be replaced\n",
    "# this only replaces the : between date and time, but not the : within time\n",
    "# the [1:] prevents there from being a lonely [ at the front, with no matching ]\n",
    "# the [1:] says that we want everything starting with the second characte (0 is first)\n",
    "output['timestamp'] = parts[3][1:].replace(':',' ', 1)\n",
    "output['timestamp']"
   ]
  },
  {
   "cell_type": "code",
   "execution_count": 24,
   "id": "d5318ef6",
   "metadata": {},
   "outputs": [
    {
     "data": {
      "text/plain": [
       "'GET'"
      ]
     },
     "execution_count": 24,
     "metadata": {},
     "output_type": "execute_result"
    }
   ],
   "source": [
    "# the [1:] is added so that we get only the request method\n",
    "# if we don't have the [1:], the output will instead be '\"GET', with the extra \"\n",
    "# the [1:] says that we want everything starting with the second charactes (0 is first)\n",
    "output['request_method'] = parts[5][1:]\n",
    "output['request_method']"
   ]
  },
  {
   "cell_type": "code",
   "execution_count": 29,
   "id": "04cb5a3d",
   "metadata": {},
   "outputs": [
    {
     "data": {
      "text/plain": [
       "'/api/v1/items'"
      ]
     },
     "execution_count": 29,
     "metadata": {},
     "output_type": "execute_result"
    }
   ],
   "source": [
    "output['request_path'] = parts[6]\n",
    "output['request_path']"
   ]
  },
  {
   "cell_type": "code",
   "execution_count": 32,
   "id": "7b06825f",
   "metadata": {},
   "outputs": [
    {
     "data": {
      "text/plain": [
       "'HTTP/1.1'"
      ]
     },
     "execution_count": 32,
     "metadata": {},
     "output_type": "execute_result"
    }
   ],
   "source": [
    "# [:-1] is added to get rid of an extra \" at the end\n",
    "# the :-1 is not inclusive of the last number, so the -1 element or \" is not included\n",
    "output['http_version'] = parts[7][:-1]\n",
    "output['http_version']"
   ]
  },
  {
   "cell_type": "code",
   "execution_count": 33,
   "id": "01e3f695",
   "metadata": {},
   "outputs": [
    {
     "data": {
      "text/plain": [
       "'200'"
      ]
     },
     "execution_count": 33,
     "metadata": {},
     "output_type": "execute_result"
    }
   ],
   "source": [
    "output['status_code'] = parts[8]\n",
    "output['status_code']"
   ]
  },
  {
   "cell_type": "code",
   "execution_count": 34,
   "id": "fad08884",
   "metadata": {},
   "outputs": [
    {
     "data": {
      "text/plain": [
       "3561"
      ]
     },
     "execution_count": 34,
     "metadata": {},
     "output_type": "execute_result"
    }
   ],
   "source": [
    "output['size'] = int(parts[9])\n",
    "output['size']"
   ]
  },
  {
   "cell_type": "code",
   "execution_count": 35,
   "id": "6dfe6927",
   "metadata": {},
   "outputs": [
    {
     "data": {
      "text/plain": [
       "'python-requests/2.21.0'"
      ]
     },
     "execution_count": 35,
     "metadata": {},
     "output_type": "execute_result"
    }
   ],
   "source": [
    "# eplace('\"', '') <- removes \" by replacing them with nothing\n",
    "output['user_agent'] = ' '.join(parts[11:]).replace('\"', '')\n",
    "output['user_agent']"
   ]
  },
  {
   "cell_type": "code",
   "execution_count": 36,
   "id": "1463a571",
   "metadata": {},
   "outputs": [],
   "source": [
    "# now put it all together and loop it\n",
    "# this function parses an entry in the log data\n",
    "def parse_log_entry(entry):\n",
    "    # splits a string into an array\n",
    "    parts = entry.split()\n",
    "    # creates an entry dictionary\n",
    "    output = {}\n",
    "    output['ip'] = parts[0]\n",
    "    # the 1 and the end of the replace argument is the number of occurrences to be replaced\n",
    "    output['timestamp'] = parts[3][1:].replace(':',' ', 1)\n",
    "    output['request_method'] = parts[5][1:]\n",
    "    output['request_path'] = parts[6]\n",
    "    output['http_version'] = parts[7][:-1]\n",
    "    output['status_code'] = parts[8]\n",
    "    output['size'] = int(parts[9])\n",
    "    output['user_agent'] = ' '.join(parts[11:]).replace('\"', '')\n",
    "    \n",
    "    return pd.Series(output)"
   ]
  },
  {
   "cell_type": "code",
   "execution_count": 48,
   "id": "07d70886",
   "metadata": {},
   "outputs": [
    {
     "data": {
      "text/html": [
       "<div>\n",
       "<style scoped>\n",
       "    .dataframe tbody tr th:only-of-type {\n",
       "        vertical-align: middle;\n",
       "    }\n",
       "\n",
       "    .dataframe tbody tr th {\n",
       "        vertical-align: top;\n",
       "    }\n",
       "\n",
       "    .dataframe thead th {\n",
       "        text-align: right;\n",
       "    }\n",
       "</style>\n",
       "<table border=\"1\" class=\"dataframe\">\n",
       "  <thead>\n",
       "    <tr style=\"text-align: right;\">\n",
       "      <th></th>\n",
       "      <th>ip</th>\n",
       "      <th>timestamp</th>\n",
       "      <th>request_method</th>\n",
       "      <th>request_path</th>\n",
       "      <th>http_version</th>\n",
       "      <th>status_code</th>\n",
       "      <th>size</th>\n",
       "      <th>user_agent</th>\n",
       "    </tr>\n",
       "  </thead>\n",
       "  <tbody>\n",
       "    <tr>\n",
       "      <th>0</th>\n",
       "      <td>97.105.19.58</td>\n",
       "      <td>16/Apr/2019 19:34:42</td>\n",
       "      <td>GET</td>\n",
       "      <td>/api/v1/sales?page=81</td>\n",
       "      <td>HTTP/1.1</td>\n",
       "      <td>200</td>\n",
       "      <td>512495</td>\n",
       "      <td>python-requests/2.21.0</td>\n",
       "    </tr>\n",
       "    <tr>\n",
       "      <th>1</th>\n",
       "      <td>97.105.19.58</td>\n",
       "      <td>16/Apr/2019 19:34:42</td>\n",
       "      <td>GET</td>\n",
       "      <td>/api/v1/items</td>\n",
       "      <td>HTTP/1.1</td>\n",
       "      <td>200</td>\n",
       "      <td>3561</td>\n",
       "      <td>python-requests/2.21.0</td>\n",
       "    </tr>\n",
       "    <tr>\n",
       "      <th>2</th>\n",
       "      <td>97.105.19.58</td>\n",
       "      <td>16/Apr/2019 19:34:44</td>\n",
       "      <td>GET</td>\n",
       "      <td>/api/v1/sales?page=82</td>\n",
       "      <td>HTTP/1.1</td>\n",
       "      <td>200</td>\n",
       "      <td>510103</td>\n",
       "      <td>python-requests/2.21.0</td>\n",
       "    </tr>\n",
       "    <tr>\n",
       "      <th>3</th>\n",
       "      <td>97.105.19.58</td>\n",
       "      <td>16/Apr/2019 19:34:46</td>\n",
       "      <td>GET</td>\n",
       "      <td>/api/v1/sales?page=83</td>\n",
       "      <td>HTTP/1.1</td>\n",
       "      <td>200</td>\n",
       "      <td>510003</td>\n",
       "      <td>python-requests/2.21.0</td>\n",
       "    </tr>\n",
       "    <tr>\n",
       "      <th>4</th>\n",
       "      <td>97.105.19.58</td>\n",
       "      <td>16/Apr/2019 19:34:48</td>\n",
       "      <td>GET</td>\n",
       "      <td>/api/v1/sales?page=84</td>\n",
       "      <td>HTTP/1.1</td>\n",
       "      <td>200</td>\n",
       "      <td>511963</td>\n",
       "      <td>python-requests/2.21.0</td>\n",
       "    </tr>\n",
       "  </tbody>\n",
       "</table>\n",
       "</div>"
      ],
      "text/plain": [
       "             ip             timestamp request_method           request_path  \\\n",
       "0  97.105.19.58  16/Apr/2019 19:34:42            GET  /api/v1/sales?page=81   \n",
       "1  97.105.19.58  16/Apr/2019 19:34:42            GET          /api/v1/items   \n",
       "2  97.105.19.58  16/Apr/2019 19:34:44            GET  /api/v1/sales?page=82   \n",
       "3  97.105.19.58  16/Apr/2019 19:34:46            GET  /api/v1/sales?page=83   \n",
       "4  97.105.19.58  16/Apr/2019 19:34:48            GET  /api/v1/sales?page=84   \n",
       "\n",
       "  http_version status_code    size              user_agent  \n",
       "0     HTTP/1.1         200  512495  python-requests/2.21.0  \n",
       "1     HTTP/1.1         200    3561  python-requests/2.21.0  \n",
       "2     HTTP/1.1         200  510103  python-requests/2.21.0  \n",
       "3     HTTP/1.1         200  510003  python-requests/2.21.0  \n",
       "4     HTTP/1.1         200  511963  python-requests/2.21.0  "
      ]
     },
     "execution_count": 48,
     "metadata": {},
     "output_type": "execute_result"
    }
   ],
   "source": [
    "# parse_log_entry(df.entry)\n",
    "# this function call won't work because we instead need to\n",
    "# apply the function to each row\n",
    "\n",
    "df = df.entry.apply(parse_log_entry)\n",
    "df.head()"
   ]
  },
  {
   "cell_type": "code",
   "execution_count": 55,
   "id": "4d2c2acd",
   "metadata": {},
   "outputs": [
    {
     "data": {
      "text/html": [
       "<div>\n",
       "<style scoped>\n",
       "    .dataframe tbody tr th:only-of-type {\n",
       "        vertical-align: middle;\n",
       "    }\n",
       "\n",
       "    .dataframe tbody tr th {\n",
       "        vertical-align: top;\n",
       "    }\n",
       "\n",
       "    .dataframe thead th {\n",
       "        text-align: right;\n",
       "    }\n",
       "</style>\n",
       "<table border=\"1\" class=\"dataframe\">\n",
       "  <thead>\n",
       "    <tr style=\"text-align: right;\">\n",
       "      <th></th>\n",
       "      <th>request_path</th>\n",
       "      <th>request_params</th>\n",
       "    </tr>\n",
       "  </thead>\n",
       "  <tbody>\n",
       "    <tr>\n",
       "      <th>0</th>\n",
       "      <td>/api/v1/sales</td>\n",
       "      <td>page=81</td>\n",
       "    </tr>\n",
       "    <tr>\n",
       "      <th>1</th>\n",
       "      <td>/api/v1/items</td>\n",
       "      <td>None</td>\n",
       "    </tr>\n",
       "    <tr>\n",
       "      <th>2</th>\n",
       "      <td>/api/v1/sales</td>\n",
       "      <td>page=82</td>\n",
       "    </tr>\n",
       "    <tr>\n",
       "      <th>3</th>\n",
       "      <td>/api/v1/sales</td>\n",
       "      <td>page=83</td>\n",
       "    </tr>\n",
       "    <tr>\n",
       "      <th>4</th>\n",
       "      <td>/api/v1/sales</td>\n",
       "      <td>page=84</td>\n",
       "    </tr>\n",
       "    <tr>\n",
       "      <th>...</th>\n",
       "      <td>...</td>\n",
       "      <td>...</td>\n",
       "    </tr>\n",
       "    <tr>\n",
       "      <th>13969</th>\n",
       "      <td>/api/v1/sales</td>\n",
       "      <td>page=62</td>\n",
       "    </tr>\n",
       "    <tr>\n",
       "      <th>13970</th>\n",
       "      <td>/api/v1/sales</td>\n",
       "      <td>page=65</td>\n",
       "    </tr>\n",
       "    <tr>\n",
       "      <th>13971</th>\n",
       "      <td>/api/v1/sales</td>\n",
       "      <td>page=73</td>\n",
       "    </tr>\n",
       "    <tr>\n",
       "      <th>13972</th>\n",
       "      <td>/api/v1/sales</td>\n",
       "      <td>page=69</td>\n",
       "    </tr>\n",
       "    <tr>\n",
       "      <th>13973</th>\n",
       "      <td>/api/v1/sales</td>\n",
       "      <td>page=71</td>\n",
       "    </tr>\n",
       "  </tbody>\n",
       "</table>\n",
       "<p>13974 rows × 2 columns</p>\n",
       "</div>"
      ],
      "text/plain": [
       "        request_path request_params\n",
       "0      /api/v1/sales        page=81\n",
       "1      /api/v1/items           None\n",
       "2      /api/v1/sales        page=82\n",
       "3      /api/v1/sales        page=83\n",
       "4      /api/v1/sales        page=84\n",
       "...              ...            ...\n",
       "13969  /api/v1/sales        page=62\n",
       "13970  /api/v1/sales        page=65\n",
       "13971  /api/v1/sales        page=73\n",
       "13972  /api/v1/sales        page=69\n",
       "13973  /api/v1/sales        page=71\n",
       "\n",
       "[13974 rows x 2 columns]"
      ]
     },
     "execution_count": 55,
     "metadata": {},
     "output_type": "execute_result"
    }
   ],
   "source": [
    "# this splits one column into two columns of data\n",
    "# if expand=False ; then they are split but still in same column and seperated by a ,\n",
    "request_path_params = df.request_path.str.split('?', expand=True)\n",
    "# renaming columns, so that the names are better than 0 or 1\n",
    "request_path_params.columns = ['request_path', 'request_params']\n",
    "request_path_params"
   ]
  },
  {
   "cell_type": "code",
   "execution_count": 57,
   "id": "6de193f6",
   "metadata": {},
   "outputs": [
    {
     "data": {
      "text/html": [
       "<div>\n",
       "<style scoped>\n",
       "    .dataframe tbody tr th:only-of-type {\n",
       "        vertical-align: middle;\n",
       "    }\n",
       "\n",
       "    .dataframe tbody tr th {\n",
       "        vertical-align: top;\n",
       "    }\n",
       "\n",
       "    .dataframe thead th {\n",
       "        text-align: right;\n",
       "    }\n",
       "</style>\n",
       "<table border=\"1\" class=\"dataframe\">\n",
       "  <thead>\n",
       "    <tr style=\"text-align: right;\">\n",
       "      <th></th>\n",
       "      <th>ip</th>\n",
       "      <th>timestamp</th>\n",
       "      <th>request_method</th>\n",
       "      <th>http_version</th>\n",
       "      <th>status_code</th>\n",
       "      <th>size</th>\n",
       "      <th>user_agent</th>\n",
       "      <th>request_path</th>\n",
       "      <th>request_params</th>\n",
       "    </tr>\n",
       "  </thead>\n",
       "  <tbody>\n",
       "    <tr>\n",
       "      <th>0</th>\n",
       "      <td>97.105.19.58</td>\n",
       "      <td>16/Apr/2019 19:34:42</td>\n",
       "      <td>GET</td>\n",
       "      <td>HTTP/1.1</td>\n",
       "      <td>200</td>\n",
       "      <td>512495</td>\n",
       "      <td>python-requests/2.21.0</td>\n",
       "      <td>/api/v1/sales</td>\n",
       "      <td>page=81</td>\n",
       "    </tr>\n",
       "    <tr>\n",
       "      <th>1</th>\n",
       "      <td>97.105.19.58</td>\n",
       "      <td>16/Apr/2019 19:34:42</td>\n",
       "      <td>GET</td>\n",
       "      <td>HTTP/1.1</td>\n",
       "      <td>200</td>\n",
       "      <td>3561</td>\n",
       "      <td>python-requests/2.21.0</td>\n",
       "      <td>/api/v1/items</td>\n",
       "      <td>None</td>\n",
       "    </tr>\n",
       "    <tr>\n",
       "      <th>2</th>\n",
       "      <td>97.105.19.58</td>\n",
       "      <td>16/Apr/2019 19:34:44</td>\n",
       "      <td>GET</td>\n",
       "      <td>HTTP/1.1</td>\n",
       "      <td>200</td>\n",
       "      <td>510103</td>\n",
       "      <td>python-requests/2.21.0</td>\n",
       "      <td>/api/v1/sales</td>\n",
       "      <td>page=82</td>\n",
       "    </tr>\n",
       "    <tr>\n",
       "      <th>3</th>\n",
       "      <td>97.105.19.58</td>\n",
       "      <td>16/Apr/2019 19:34:46</td>\n",
       "      <td>GET</td>\n",
       "      <td>HTTP/1.1</td>\n",
       "      <td>200</td>\n",
       "      <td>510003</td>\n",
       "      <td>python-requests/2.21.0</td>\n",
       "      <td>/api/v1/sales</td>\n",
       "      <td>page=83</td>\n",
       "    </tr>\n",
       "    <tr>\n",
       "      <th>4</th>\n",
       "      <td>97.105.19.58</td>\n",
       "      <td>16/Apr/2019 19:34:48</td>\n",
       "      <td>GET</td>\n",
       "      <td>HTTP/1.1</td>\n",
       "      <td>200</td>\n",
       "      <td>511963</td>\n",
       "      <td>python-requests/2.21.0</td>\n",
       "      <td>/api/v1/sales</td>\n",
       "      <td>page=84</td>\n",
       "    </tr>\n",
       "  </tbody>\n",
       "</table>\n",
       "</div>"
      ],
      "text/plain": [
       "             ip             timestamp request_method http_version status_code  \\\n",
       "0  97.105.19.58  16/Apr/2019 19:34:42            GET     HTTP/1.1         200   \n",
       "1  97.105.19.58  16/Apr/2019 19:34:42            GET     HTTP/1.1         200   \n",
       "2  97.105.19.58  16/Apr/2019 19:34:44            GET     HTTP/1.1         200   \n",
       "3  97.105.19.58  16/Apr/2019 19:34:46            GET     HTTP/1.1         200   \n",
       "4  97.105.19.58  16/Apr/2019 19:34:48            GET     HTTP/1.1         200   \n",
       "\n",
       "     size              user_agent   request_path request_params  \n",
       "0  512495  python-requests/2.21.0  /api/v1/sales        page=81  \n",
       "1    3561  python-requests/2.21.0  /api/v1/items           None  \n",
       "2  510103  python-requests/2.21.0  /api/v1/sales        page=82  \n",
       "3  510003  python-requests/2.21.0  /api/v1/sales        page=83  \n",
       "4  511963  python-requests/2.21.0  /api/v1/sales        page=84  "
      ]
     },
     "execution_count": 57,
     "metadata": {},
     "output_type": "execute_result"
    }
   ],
   "source": [
    "# this drops the original column that we split,\n",
    "# and then joins the two new columns that we created from the split\n",
    "df = df.drop(columns='request_path').join(request_path_params)\n",
    "df.head()"
   ]
  },
  {
   "cell_type": "code",
   "execution_count": 59,
   "id": "98f39ec2",
   "metadata": {},
   "outputs": [
    {
     "data": {
      "text/plain": [
       "<AxesSubplot:title={'center':'Top 10 requested pages'}>"
      ]
     },
     "execution_count": 59,
     "metadata": {},
     "output_type": "execute_result"
    },
    {
     "data": {
      "image/png": "[encoded data removed]",
      "text/plain": [
       "<Figure size 432x288 with 1 Axes>"
      ]
     },
     "metadata": {
      "needs_background": "light"
     },
     "output_type": "display_data"
    }
   ],
   "source": [
    "df.request_params.value_counts().head(10).plot.barh(title='Top 10 requested pages')"
   ]
  },
  {
   "cell_type": "markdown",
   "id": "20493d93",
   "metadata": {},
   "source": [
    "Intriguing that page requests are 2 > 3 > 1"
   ]
  },
  {
   "cell_type": "code",
   "execution_count": 61,
   "id": "e3405f8c",
   "metadata": {},
   "outputs": [
    {
     "data": {
      "text/html": [
       "<div>\n",
       "<style scoped>\n",
       "    .dataframe tbody tr th:only-of-type {\n",
       "        vertical-align: middle;\n",
       "    }\n",
       "\n",
       "    .dataframe tbody tr th {\n",
       "        vertical-align: top;\n",
       "    }\n",
       "\n",
       "    .dataframe thead th {\n",
       "        text-align: right;\n",
       "    }\n",
       "</style>\n",
       "<table border=\"1\" class=\"dataframe\">\n",
       "  <thead>\n",
       "    <tr style=\"text-align: right;\">\n",
       "      <th></th>\n",
       "      <th>ip</th>\n",
       "      <th>request_method</th>\n",
       "      <th>http_version</th>\n",
       "      <th>status_code</th>\n",
       "      <th>size</th>\n",
       "      <th>user_agent</th>\n",
       "      <th>request_path</th>\n",
       "      <th>request_params</th>\n",
       "    </tr>\n",
       "    <tr>\n",
       "      <th>timestamp</th>\n",
       "      <th></th>\n",
       "      <th></th>\n",
       "      <th></th>\n",
       "      <th></th>\n",
       "      <th></th>\n",
       "      <th></th>\n",
       "      <th></th>\n",
       "      <th></th>\n",
       "    </tr>\n",
       "  </thead>\n",
       "  <tbody>\n",
       "    <tr>\n",
       "      <th>2019-04-16 19:34:42+00:00</th>\n",
       "      <td>97.105.19.58</td>\n",
       "      <td>GET</td>\n",
       "      <td>HTTP/1.1</td>\n",
       "      <td>200</td>\n",
       "      <td>512495</td>\n",
       "      <td>python-requests/2.21.0</td>\n",
       "      <td>/api/v1/sales</td>\n",
       "      <td>page=81</td>\n",
       "    </tr>\n",
       "    <tr>\n",
       "      <th>2019-04-16 19:34:42+00:00</th>\n",
       "      <td>97.105.19.58</td>\n",
       "      <td>GET</td>\n",
       "      <td>HTTP/1.1</td>\n",
       "      <td>200</td>\n",
       "      <td>3561</td>\n",
       "      <td>python-requests/2.21.0</td>\n",
       "      <td>/api/v1/items</td>\n",
       "      <td>None</td>\n",
       "    </tr>\n",
       "    <tr>\n",
       "      <th>2019-04-16 19:34:44+00:00</th>\n",
       "      <td>97.105.19.58</td>\n",
       "      <td>GET</td>\n",
       "      <td>HTTP/1.1</td>\n",
       "      <td>200</td>\n",
       "      <td>510103</td>\n",
       "      <td>python-requests/2.21.0</td>\n",
       "      <td>/api/v1/sales</td>\n",
       "      <td>page=82</td>\n",
       "    </tr>\n",
       "    <tr>\n",
       "      <th>2019-04-16 19:34:46+00:00</th>\n",
       "      <td>97.105.19.58</td>\n",
       "      <td>GET</td>\n",
       "      <td>HTTP/1.1</td>\n",
       "      <td>200</td>\n",
       "      <td>510003</td>\n",
       "      <td>python-requests/2.21.0</td>\n",
       "      <td>/api/v1/sales</td>\n",
       "      <td>page=83</td>\n",
       "    </tr>\n",
       "    <tr>\n",
       "      <th>2019-04-16 19:34:48+00:00</th>\n",
       "      <td>97.105.19.58</td>\n",
       "      <td>GET</td>\n",
       "      <td>HTTP/1.1</td>\n",
       "      <td>200</td>\n",
       "      <td>511963</td>\n",
       "      <td>python-requests/2.21.0</td>\n",
       "      <td>/api/v1/sales</td>\n",
       "      <td>page=84</td>\n",
       "    </tr>\n",
       "  </tbody>\n",
       "</table>\n",
       "</div>"
      ],
      "text/plain": [
       "                                     ip request_method http_version  \\\n",
       "timestamp                                                             \n",
       "2019-04-16 19:34:42+00:00  97.105.19.58            GET     HTTP/1.1   \n",
       "2019-04-16 19:34:42+00:00  97.105.19.58            GET     HTTP/1.1   \n",
       "2019-04-16 19:34:44+00:00  97.105.19.58            GET     HTTP/1.1   \n",
       "2019-04-16 19:34:46+00:00  97.105.19.58            GET     HTTP/1.1   \n",
       "2019-04-16 19:34:48+00:00  97.105.19.58            GET     HTTP/1.1   \n",
       "\n",
       "                          status_code    size              user_agent  \\\n",
       "timestamp                                                               \n",
       "2019-04-16 19:34:42+00:00         200  512495  python-requests/2.21.0   \n",
       "2019-04-16 19:34:42+00:00         200    3561  python-requests/2.21.0   \n",
       "2019-04-16 19:34:44+00:00         200  510103  python-requests/2.21.0   \n",
       "2019-04-16 19:34:46+00:00         200  510003  python-requests/2.21.0   \n",
       "2019-04-16 19:34:48+00:00         200  511963  python-requests/2.21.0   \n",
       "\n",
       "                            request_path request_params  \n",
       "timestamp                                                \n",
       "2019-04-16 19:34:42+00:00  /api/v1/sales        page=81  \n",
       "2019-04-16 19:34:42+00:00  /api/v1/items           None  \n",
       "2019-04-16 19:34:44+00:00  /api/v1/sales        page=82  \n",
       "2019-04-16 19:34:46+00:00  /api/v1/sales        page=83  \n",
       "2019-04-16 19:34:48+00:00  /api/v1/sales        page=84  "
      ]
     },
     "execution_count": 61,
     "metadata": {},
     "output_type": "execute_result"
    }
   ],
   "source": [
    "# UTC is universal coordinated time\n",
    "df.timestamp = pd.to_datetime(df.timestamp, utc=True)\n",
    "\n",
    "# set index to datetime\n",
    "df = df.set_index('timestamp')\n",
    "\n",
    "df.head()"
   ]
  },
  {
   "cell_type": "code",
   "execution_count": 64,
   "id": "22a766a3",
   "metadata": {},
   "outputs": [
    {
     "data": {
      "text/html": [
       "<div>\n",
       "<style scoped>\n",
       "    .dataframe tbody tr th:only-of-type {\n",
       "        vertical-align: middle;\n",
       "    }\n",
       "\n",
       "    .dataframe tbody tr th {\n",
       "        vertical-align: top;\n",
       "    }\n",
       "\n",
       "    .dataframe thead th {\n",
       "        text-align: right;\n",
       "    }\n",
       "</style>\n",
       "<table border=\"1\" class=\"dataframe\">\n",
       "  <thead>\n",
       "    <tr style=\"text-align: right;\">\n",
       "      <th></th>\n",
       "      <th>ip</th>\n",
       "      <th>request_method</th>\n",
       "      <th>http_version</th>\n",
       "      <th>status_code</th>\n",
       "      <th>size</th>\n",
       "      <th>user_agent</th>\n",
       "      <th>request_path</th>\n",
       "      <th>request_params</th>\n",
       "      <th>hour</th>\n",
       "      <th>weekday</th>\n",
       "    </tr>\n",
       "    <tr>\n",
       "      <th>timestamp</th>\n",
       "      <th></th>\n",
       "      <th></th>\n",
       "      <th></th>\n",
       "      <th></th>\n",
       "      <th></th>\n",
       "      <th></th>\n",
       "      <th></th>\n",
       "      <th></th>\n",
       "      <th></th>\n",
       "      <th></th>\n",
       "    </tr>\n",
       "  </thead>\n",
       "  <tbody>\n",
       "    <tr>\n",
       "      <th>2019-04-16 14:34:42-05:00</th>\n",
       "      <td>97.105.19.58</td>\n",
       "      <td>GET</td>\n",
       "      <td>HTTP/1.1</td>\n",
       "      <td>200</td>\n",
       "      <td>512495</td>\n",
       "      <td>python-requests/2.21.0</td>\n",
       "      <td>/api/v1/sales</td>\n",
       "      <td>page=81</td>\n",
       "      <td>14</td>\n",
       "      <td>Tuesday</td>\n",
       "    </tr>\n",
       "    <tr>\n",
       "      <th>2019-04-16 14:34:42-05:00</th>\n",
       "      <td>97.105.19.58</td>\n",
       "      <td>GET</td>\n",
       "      <td>HTTP/1.1</td>\n",
       "      <td>200</td>\n",
       "      <td>3561</td>\n",
       "      <td>python-requests/2.21.0</td>\n",
       "      <td>/api/v1/items</td>\n",
       "      <td>None</td>\n",
       "      <td>14</td>\n",
       "      <td>Tuesday</td>\n",
       "    </tr>\n",
       "    <tr>\n",
       "      <th>2019-04-16 14:34:44-05:00</th>\n",
       "      <td>97.105.19.58</td>\n",
       "      <td>GET</td>\n",
       "      <td>HTTP/1.1</td>\n",
       "      <td>200</td>\n",
       "      <td>510103</td>\n",
       "      <td>python-requests/2.21.0</td>\n",
       "      <td>/api/v1/sales</td>\n",
       "      <td>page=82</td>\n",
       "      <td>14</td>\n",
       "      <td>Tuesday</td>\n",
       "    </tr>\n",
       "    <tr>\n",
       "      <th>2019-04-16 14:34:46-05:00</th>\n",
       "      <td>97.105.19.58</td>\n",
       "      <td>GET</td>\n",
       "      <td>HTTP/1.1</td>\n",
       "      <td>200</td>\n",
       "      <td>510003</td>\n",
       "      <td>python-requests/2.21.0</td>\n",
       "      <td>/api/v1/sales</td>\n",
       "      <td>page=83</td>\n",
       "      <td>14</td>\n",
       "      <td>Tuesday</td>\n",
       "    </tr>\n",
       "    <tr>\n",
       "      <th>2019-04-16 14:34:48-05:00</th>\n",
       "      <td>97.105.19.58</td>\n",
       "      <td>GET</td>\n",
       "      <td>HTTP/1.1</td>\n",
       "      <td>200</td>\n",
       "      <td>511963</td>\n",
       "      <td>python-requests/2.21.0</td>\n",
       "      <td>/api/v1/sales</td>\n",
       "      <td>page=84</td>\n",
       "      <td>14</td>\n",
       "      <td>Tuesday</td>\n",
       "    </tr>\n",
       "  </tbody>\n",
       "</table>\n",
       "</div>"
      ],
      "text/plain": [
       "                                     ip request_method http_version  \\\n",
       "timestamp                                                             \n",
       "2019-04-16 14:34:42-05:00  97.105.19.58            GET     HTTP/1.1   \n",
       "2019-04-16 14:34:42-05:00  97.105.19.58            GET     HTTP/1.1   \n",
       "2019-04-16 14:34:44-05:00  97.105.19.58            GET     HTTP/1.1   \n",
       "2019-04-16 14:34:46-05:00  97.105.19.58            GET     HTTP/1.1   \n",
       "2019-04-16 14:34:48-05:00  97.105.19.58            GET     HTTP/1.1   \n",
       "\n",
       "                          status_code    size              user_agent  \\\n",
       "timestamp                                                               \n",
       "2019-04-16 14:34:42-05:00         200  512495  python-requests/2.21.0   \n",
       "2019-04-16 14:34:42-05:00         200    3561  python-requests/2.21.0   \n",
       "2019-04-16 14:34:44-05:00         200  510103  python-requests/2.21.0   \n",
       "2019-04-16 14:34:46-05:00         200  510003  python-requests/2.21.0   \n",
       "2019-04-16 14:34:48-05:00         200  511963  python-requests/2.21.0   \n",
       "\n",
       "                            request_path request_params  hour  weekday  \n",
       "timestamp                                                               \n",
       "2019-04-16 14:34:42-05:00  /api/v1/sales        page=81    14  Tuesday  \n",
       "2019-04-16 14:34:42-05:00  /api/v1/items           None    14  Tuesday  \n",
       "2019-04-16 14:34:44-05:00  /api/v1/sales        page=82    14  Tuesday  \n",
       "2019-04-16 14:34:46-05:00  /api/v1/sales        page=83    14  Tuesday  \n",
       "2019-04-16 14:34:48-05:00  /api/v1/sales        page=84    14  Tuesday  "
      ]
     },
     "execution_count": 64,
     "metadata": {},
     "output_type": "execute_result"
    }
   ],
   "source": [
    "# if we don't convert the tz then peak activity will appear to be late at night,\n",
    "df = df.tz_convert('America/Chicago')\n",
    "df['hour'] = df.index.hour\n",
    "df['weekday'] = df.index.day_name()\n",
    "\n",
    "df.head()"
   ]
  },
  {
   "cell_type": "code",
   "execution_count": 65,
   "id": "7ea986c0",
   "metadata": {},
   "outputs": [
    {
     "data": {
      "text/plain": [
       "<AxesSubplot:title={'center':'Which hours are the most active?'}>"
      ]
     },
     "execution_count": 65,
     "metadata": {},
     "output_type": "execute_result"
    },
    {
     "data": {
      "image/png": "[encoded data removed]",
      "text/plain": [
       "<Figure size 432x288 with 1 Axes>"
      ]
     },
     "metadata": {
      "needs_background": "light"
     },
     "output_type": "display_data"
    }
   ],
   "source": [
    "df.hour.value_counts().sort_index().plot.bar(title='Which hours are the most active?')"
   ]
  },
  {
   "cell_type": "markdown",
   "id": "06116047",
   "metadata": {},
   "source": [
    "Peak activity is in the afternoon (probably during class)"
   ]
  },
  {
   "cell_type": "code",
   "execution_count": 66,
   "id": "4b3b5e40",
   "metadata": {},
   "outputs": [
    {
     "data": {
      "text/plain": [
       "hour  request_params           \n",
       "14    page=99999999999999999998    0.000487\n",
       "      page=999                     0.000487\n",
       "      page=666                     0.000487\n",
       "      page=1                       0.000974\n",
       "      page=0                       0.001461\n",
       "                                     ...   \n",
       "23    page=3                       0.218978\n",
       "      page=2                       0.218978\n",
       "19    page=2                       0.500000\n",
       "      page=3                       0.500000\n",
       "1     page=1                       1.000000\n",
       "Name: request_params, Length: 1618, dtype: float64"
      ]
     },
     "execution_count": 66,
     "metadata": {},
     "output_type": "execute_result"
    }
   ],
   "source": [
    "df.groupby('hour').request_params.value_counts(normalize=True).sort_values()"
   ]
  },
  {
   "cell_type": "markdown",
   "id": "97dc92f2",
   "metadata": {},
   "source": [
    "Some of the page numbers in hour 14 are outragiously large, possibly because students are experimenting to find the last page"
   ]
  },
  {
   "cell_type": "code",
   "execution_count": 67,
   "id": "45baea39",
   "metadata": {},
   "outputs": [
    {
     "data": {
      "text/plain": [
       "request_params             hour\n",
       "page=2                     7       0.000980\n",
       "                           19      0.001961\n",
       "page=3                     7       0.003175\n",
       "                           19      0.006349\n",
       "page=2                     20      0.009804\n",
       "                                     ...   \n",
       "page=1                     16      0.616915\n",
       "page=0                     14      1.000000\n",
       "page=999                   14      1.000000\n",
       "page=666                   14      1.000000\n",
       "page=99999999999999999998  14      1.000000\n",
       "Name: hour, Length: 1618, dtype: float64"
      ]
     },
     "execution_count": 67,
     "metadata": {},
     "output_type": "execute_result"
    }
   ],
   "source": [
    "df.groupby('request_params').hour.value_counts(normalize=True).sort_values()"
   ]
  },
  {
   "cell_type": "code",
   "execution_count": 69,
   "id": "46bbd35c",
   "metadata": {},
   "outputs": [
    {
     "data": {
      "text/plain": [
       "weekday    request_params\n",
       "Tuesday    page=2            0.078970\n",
       "           page=3            0.023129\n",
       "           page=1            0.014257\n",
       "           page=4            0.006495\n",
       "           page=5            0.006416\n",
       "                               ...   \n",
       "Wednesday  page=95           0.003185\n",
       "           page=96           0.003185\n",
       "           page=97           0.003185\n",
       "           page=98           0.003185\n",
       "           page=99           0.003185\n",
       "Name: request_params, Length: 370, dtype: float64"
      ]
     },
     "execution_count": 69,
     "metadata": {},
     "output_type": "execute_result"
    }
   ],
   "source": [
    "df.groupby('weekday').request_params.value_counts(normalize=True)"
   ]
  },
  {
   "cell_type": "code",
   "execution_count": null,
   "id": "75b4138d",
   "metadata": {},
   "outputs": [],
   "source": []
  },
  {
   "cell_type": "code",
   "execution_count": null,
   "id": "151b9b69",
   "metadata": {},
   "outputs": [],
   "source": []
  }
 ],
 "metadata": {
  "kernelspec": {
   "display_name": "Python 3",
   "language": "python",
   "name": "python3"
  },
  "language_info": {
   "codemirror_mode": {
    "name": "ipython",
    "version": 3
   },
   "file_extension": ".py",
   "mimetype": "text/x-python",
   "name": "python",
   "nbconvert_exporter": "python",
   "pygments_lexer": "ipython3",
   "version": "3.8.8"
  }
 },
 "nbformat": 4,
 "nbformat_minor": 5
}
